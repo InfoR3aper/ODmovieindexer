{
 "cells": [
  {
   "cell_type": "code",
   "execution_count": 1,
   "metadata": {
    "tags": [
     "outputPrepend"
    ]
   },
   "outputs": [
    {
     "name": "stderr",
     "output_type": "stream",
     "text": [
      "2021-01-31 19:28:32.194 | WARNING  | main:fetch_movie_data:188 - MatchesDict([('title', '2 Fast 2 Furious'), ('year', 2003), ('screen_size', '1080p'), ('container', 'mp4'), ('mimetype', 'video/mp4'), ('type', 'movie')])\n",
      "2021-01-31 19:28:32.540 | WARNING  | main:fetch_movie_data:139 - Movie not found: https://easy-movie.com.au/cdn/A.Giant.Jack.Christmas.2020.1080p.mp4\n",
      "2021-01-31 19:28:32.897 | WARNING  | main:fetch_movie_data:188 - MatchesDict([('title', 'Alita Battle Angel'), ('year', 2019), ('screen_size', '1080p'), ('container', 'mp4'), ('mimetype', 'video/mp4'), ('type', 'movie')])\n",
      "2021-01-31 19:28:33.289 | WARNING  | main:fetch_movie_data:188 - MatchesDict([('release_group', 'Ant'), ('title', 'Man And The Wasp'), ('year', 2018), ('screen_size', '1080p'), ('source', 'Blu-ray'), ('video_codec', 'H.264'), ('container', 'mp4'), ('mimetype', 'video/mp4'), ('type', 'movie')])\n",
      "2021-01-31 19:28:33.663 | WARNING  | main:fetch_movie_data:188 - MatchesDict([('title', 'Aquaman'), ('year', 2018), ('screen_size', '1080p'), ('source', 'Blu-ray'), ('video_codec', 'H.264'), ('release_group', 'YTS.AM'), ('container', 'mp4'), ('mimetype', 'video/mp4'), ('type', 'movie')])\n",
      "2021-01-31 19:28:33.888 | WARNING  | main:fetch_movie_data:188 - MatchesDict([('title', 'Army Of One'), ('year', 2020), ('screen_size', '1080p'), ('container', 'mp4'), ('mimetype', 'video/mp4'), ('type', 'movie')])\n",
      "2021-01-31 19:28:34.239 | WARNING  | main:fetch_movie_data:188 - MatchesDict([('title', 'Arrival'), ('year', 2016), ('screen_size', '1080p'), ('container', 'mp4'), ('mimetype', 'video/mp4'), ('type', 'movie')])\n",
      "2021-01-31 19:28:34.595 | WARNING  | main:fetch_movie_data:188 - MatchesDict([('title', \"Assassin's Creed\"), ('year', 2016), ('screen_size', '1080p'), ('source', 'Blu-ray'), ('video_codec', 'H.264'), ('release_group', 'YTS.AG'), ('container', 'mp4'), ('mimetype', 'video/mp4'), ('type', 'movie')])\n",
      "2021-01-31 19:28:34.956 | WARNING  | main:fetch_movie_data:188 - MatchesDict([('title', 'Asylum Twisted Horror And Fantasy Tales'), ('year', 2020), ('screen_size', '1080p'), ('container', 'mp4'), ('mimetype', 'video/mp4'), ('type', 'movie')])\n",
      "2021-01-31 19:28:35.293 | WARNING  | main:fetch_movie_data:188 - MatchesDict([('title', 'Avengers Endgame'), ('year', 2019), ('screen_size', '1080p'), ('source', 'Blu-ray'), ('video_codec', 'H.264'), ('release_group', 'YTS.LT'), ('container', 'mp4'), ('mimetype', 'video/mp4'), ('type', 'movie')])\n",
      "2021-01-31 19:28:35.658 | WARNING  | main:fetch_movie_data:188 - MatchesDict([('title', 'Avengers Infinity War'), ('year', 2018), ('screen_size', '1080p'), ('source', 'Blu-ray'), ('video_codec', 'H.264'), ('release_group', 'YTS.AM'), ('container', 'mp4'), ('mimetype', 'video/mp4'), ('type', 'movie')])\n",
      "2021-01-31 19:28:35.905 | WARNING  | main:fetch_movie_data:188 - MatchesDict([('title', 'Baby Driver'), ('year', 2017), ('screen_size', '1080p'), ('source', 'Blu-ray'), ('video_codec', 'H.264'), ('release_group', 'YTS.AG'), ('container', 'mp4'), ('mimetype', 'video/mp4'), ('type', 'movie')])\n",
      "2021-01-31 19:28:36.281 | WARNING  | main:fetch_movie_data:188 - MatchesDict([('title', 'Back To The Future'), ('year', 1985), ('screen_size', '2160p'), ('container', 'mkv'), ('mimetype', 'video/x-matroska'), ('type', 'movie')])\n",
      "2021-01-31 19:28:36.613 | WARNING  | main:fetch_movie_data:188 - MatchesDict([('title', 'Bad Boys For Life'), ('year', 2020), ('screen_size', '1080p'), ('container', 'mp4'), ('mimetype', 'video/mp4'), ('type', 'movie')])\n",
      "2021-01-31 19:28:36.969 | WARNING  | main:fetch_movie_data:188 - MatchesDict([('title', 'Beast Mode'), ('year', 2020), ('screen_size', '1080p'), ('container', 'mp4'), ('mimetype', 'video/mp4'), ('type', 'movie')])\n",
      "2021-01-31 19:28:37.315 | WARNING  | main:fetch_movie_data:188 - MatchesDict([('title', 'Beauty And The Beast'), ('year', 2017), ('screen_size', '1080p'), ('source', 'Blu-ray'), ('video_codec', 'H.264'), ('release_group', 'YTS.AG'), ('container', 'mp4'), ('mimetype', 'video/mp4'), ('type', 'movie')])\n",
      "2021-01-31 19:28:37.665 | WARNING  | main:fetch_movie_data:188 - MatchesDict([('title', 'Big Hero 6'), ('year', 2014), ('screen_size', '1080p'), ('source', 'Blu-ray'), ('video_codec', 'H.264'), ('release_group', 'YIFY'), ('container', 'mp4'), ('mimetype', 'video/mp4'), ('type', 'movie')])\n",
      "2021-01-31 19:28:38.004 | WARNING  | main:fetch_movie_data:188 - MatchesDict([('title', 'Bigfoot Family'), ('year', 2020), ('screen_size', '1080p'), ('container', 'mp4'), ('mimetype', 'video/mp4'), ('type', 'movie')])\n",
      "2021-01-31 19:28:38.350 | WARNING  | main:fetch_movie_data:188 - MatchesDict([('title', 'Black Panther'), ('year', 2018), ('screen_size', '1080p'), ('source', 'Blu-ray'), ('video_codec', 'H.264'), ('release_group', 'YTS.AM'), ('container', 'mp4'), ('mimetype', 'video/mp4'), ('type', 'movie')])\n",
      "2021-01-31 19:28:38.694 | WARNING  | main:fetch_movie_data:188 - MatchesDict([('title', 'Bloodshot'), ('year', 2020), ('screen_size', '1080p'), ('container', 'mp4'), ('mimetype', 'video/mp4'), ('type', 'movie')])\n",
      "2021-01-31 19:28:39.036 | WARNING  | main:fetch_movie_data:188 - MatchesDict([('title', 'Borat Subsequent Moviefilm'), ('year', 2020), ('screen_size', '1080p'), ('container', 'mp4'), ('mimetype', 'video/mp4'), ('type', 'movie')])\n",
      "2021-01-31 19:28:39.398 | WARNING  | main:fetch_movie_data:188 - MatchesDict([('title', 'Bumblebee'), ('year', 2018), ('screen_size', '1080p'), ('container', 'mp4'), ('mimetype', 'video/mp4'), ('type', 'movie')])\n",
      "2021-01-31 19:28:39.754 | WARNING  | main:fetch_movie_data:188 - MatchesDict([('title', 'Captain America Civil War'), ('year', 2016), ('screen_size', '2160p'), ('source', 'Ultra HD Blu-ray'), ('video_codec', 'H.265'), ('color_depth', '10-bit'), ('audio_codec', 'AAC'), ('audio_channels', '5.1'), ('release_group', 'YTS.MX'), ('container', 'mkv'), ('mimetype', 'video/x-matroska'), ('type', 'movie')])\n",
      "2021-01-31 19:28:40.117 | WARNING  | main:fetch_movie_data:188 - MatchesDict([('title', 'Captain America The Winter Soldier'), ('year', 2014), ('screen_size', '1080p'), ('source', 'Blu-ray'), ('video_codec', 'H.264'), ('release_group', 'YIFY'), ('container', 'mp4'), ('mimetype', 'video/mp4'), ('type', 'movie')])\n",
      "2021-01-31 19:28:40.450 | WARNING  | main:fetch_movie_data:188 - MatchesDict([('title', 'Captain Marvel'), ('year', 2019), ('screen_size', '1080p'), ('source', 'Blu-ray'), ('video_codec', 'H.264'), ('release_group', 'YTS.AM'), ('container', 'mp4'), ('mimetype', 'video/mp4'), ('type', 'movie')])\n",
      "2021-01-31 19:28:40.766 | WARNING  | main:fetch_movie_data:139 - Movie not found: https://easy-movie.com.au/cdn/cdndemo.mp4\n",
      "2021-01-31 19:28:43.627 | WARNING  | main:fetch_movie_data:188 - MatchesDict([('title', 'Chasing Christmas'), ('year', 2005), ('screen_size', '1080p'), ('container', 'mp4'), ('mimetype', 'video/mp4'), ('type', 'movie')])\n",
      "2021-01-31 19:28:43.985 | WARNING  | main:fetch_movie_data:188 - MatchesDict([('title', 'Completely Unrehearsed Last Minute Pandemic Holiday Special'), ('year', 2020), ('screen_size', '1080p'), ('container', 'mp4'), ('mimetype', 'video/mp4'), ('type', 'movie')])\n",
      "2021-01-31 19:28:44.371 | WARNING  | main:fetch_movie_data:188 - MatchesDict([('title', 'Creed'), ('year', 2015), ('screen_size', '1080p'), ('source', 'Blu-ray'), ('video_codec', 'H.264'), ('release_group', 'YTS.AG'), ('container', 'mp4'), ('mimetype', 'video/mp4'), ('type', 'movie')])\n",
      "2021-01-31 19:28:44.712 | WARNING  | main:fetch_movie_data:188 - MatchesDict([('title', 'Cyber Bride'), ('year', 2019), ('screen_size', '1080p'), ('container', 'mp4'), ('mimetype', 'video/mp4'), ('type', 'movie')])\n",
      "2021-01-31 19:28:45.045 | WARNING  | main:fetch_movie_data:139 - Movie not found: https://easy-movie.com.au/cdn/dayz-bags.mp4\n",
      "2021-01-31 19:28:45.391 | WARNING  | main:fetch_movie_data:188 - MatchesDict([('title', 'Deadpool 2'), ('year', 2018), ('screen_size', '1080p'), ('container', 'mp4'), ('mimetype', 'video/mp4'), ('type', 'movie')])\n",
      "2021-01-31 19:28:45.733 | WARNING  | main:fetch_movie_data:188 - MatchesDict([('title', 'Deadpool'), ('year', 2016), ('screen_size', '1080p'), ('container', 'mp4'), ('mimetype', 'video/mp4'), ('type', 'movie')])\n",
      "2021-01-31 19:28:46.125 | WARNING  | main:fetch_movie_data:188 - MatchesDict([('title', 'Deathstroke Knights Dragons'), ('year', 2020), ('screen_size', '1080p'), ('container', 'mp4'), ('mimetype', 'video/mp4'), ('type', 'movie')])\n"
     ]
    },
    {
     "name": "stderr",
     "output_type": "stream",
     "text": [
      "2021-01-31 19:28:46.126 | WARNING  | main:parse_txt:231 - Found Deathstroke: Knights & Dragons but no year found for https://easy-movie.com.au/cdn/Deathstroke.Knights.Dragons.2020.1080p.mp4\n",
      "2021-01-31 19:28:46.508 | WARNING  | main:fetch_movie_data:188 - MatchesDict([('title', 'Deep Blue Sea 3'), ('year', 2020), ('screen_size', '1080p'), ('container', 'mp4'), ('mimetype', 'video/mp4'), ('type', 'movie')])\n",
      "2021-01-31 19:28:46.847 | WARNING  | main:fetch_movie_data:188 - MatchesDict([('title', 'Deepwater Horizon'), ('year', 2016), ('screen_size', '1080p'), ('source', 'Blu-ray'), ('video_codec', 'H.264'), ('release_group', 'YTS.AG'), ('container', 'mp4'), ('mimetype', 'video/mp4'), ('type', 'movie')])\n",
      "2021-01-31 19:28:47.201 | WARNING  | main:fetch_movie_data:188 - MatchesDict([('title', 'Den Of Thieves'), ('year', 2018), ('screen_size', '1080p'), ('source', 'Blu-ray'), ('video_codec', 'H.264'), ('release_group', 'YTS.AM'), ('container', 'mp4'), ('mimetype', 'video/mp4'), ('type', 'movie')])\n",
      "2021-01-31 19:28:47.538 | WARNING  | main:fetch_movie_data:188 - MatchesDict([('title', 'Deported'), ('year', 2020), ('screen_size', '1080p'), ('container', 'mp4'), ('mimetype', 'video/mp4'), ('type', 'movie')])\n",
      "2021-01-31 19:28:47.875 | WARNING  | main:fetch_movie_data:188 - MatchesDict([('title', 'Doctor Strange'), ('year', 2016), ('screen_size', '1080p'), ('source', 'Blu-ray'), ('video_codec', 'H.264'), ('release_group', 'YTS.AG'), ('container', 'mp4'), ('mimetype', 'video/mp4'), ('type', 'movie')])\n",
      "2021-01-31 19:28:48.212 | WARNING  | main:fetch_movie_data:188 - MatchesDict([('title', 'Dom And Adrian 2020'), ('year', 2020), ('screen_size', '1080p'), ('container', 'mp4'), ('mimetype', 'video/mp4'), ('type', 'movie')])\n",
      "2021-01-31 19:28:48.554 | WARNING  | main:fetch_movie_data:188 - MatchesDict([('title', 'Downhill'), ('year', 2020), ('screen_size', '1080p'), ('container', 'mp4'), ('mimetype', 'video/mp4'), ('type', 'movie')])\n",
      "2021-01-31 19:28:48.786 | WARNING  | main:fetch_movie_data:188 - MatchesDict([('title', 'Dune Drifter'), ('year', 2020), ('screen_size', '1080p'), ('container', 'mp4'), ('mimetype', 'video/mp4'), ('type', 'movie')])\n",
      "2021-01-31 19:28:49.119 | WARNING  | main:fetch_movie_data:188 - MatchesDict([('title', 'Escape From Pretoria'), ('year', 2020), ('screen_size', '1080p'), ('container', 'mp4'), ('mimetype', 'video/mp4'), ('type', 'movie')])\n",
      "2021-01-31 19:28:49.451 | WARNING  | main:fetch_movie_data:188 - MatchesDict([('title', 'Extraction'), ('year', 2020), ('screen_size', '1080p'), ('container', 'mp4'), ('mimetype', 'video/mp4'), ('type', 'movie')])\n",
      "2021-01-31 19:28:49.803 | WARNING  | main:fetch_movie_data:188 - MatchesDict([('title', 'Fantastic Beasts And Where To Find Them'), ('year', 2016), ('screen_size', '1080p'), ('source', 'Blu-ray'), ('video_codec', 'H.264'), ('release_group', 'YTS.AG'), ('container', 'mp4'), ('mimetype', 'video/mp4'), ('type', 'movie')])\n",
      "2021-01-31 19:28:50.172 | WARNING  | main:fetch_movie_data:188 - MatchesDict([('title', 'Fantastic Beasts The Crimes Of Grindelwald'), ('year', 2018), ('screen_size', '1080p'), ('source', 'Blu-ray'), ('video_codec', 'H.264'), ('release_group', 'YTS.AM'), ('container', 'mp4'), ('mimetype', 'video/mp4'), ('type', 'movie')])\n",
      "2021-01-31 19:28:50.524 | WARNING  | main:fetch_movie_data:188 - MatchesDict([('title', 'Fantasy Island'), ('year', 2020), ('screen_size', '1080p'), ('container', 'mp4'), ('mimetype', 'video/mp4'), ('type', 'movie')])\n",
      "2021-01-31 19:28:50.862 | WARNING  | main:fetch_movie_data:188 - MatchesDict([('title', 'Fast & Furious Presents Hobbs & Shaw'), ('year', 2019), ('screen_size', '1080p'), ('source', 'Blu-ray'), ('video_codec', 'H.264'), ('release_group', 'YTS.LT'), ('container', 'mp4'), ('mimetype', 'video/mp4'), ('type', 'movie')])\n",
      "2021-01-31 19:28:51.093 | WARNING  | main:fetch_movie_data:139 - Movie not found: https://easy-movie.com.au/cdn/Fast.and.Furious.2009.1080p.mp4\n",
      "2021-01-31 19:28:51.449 | WARNING  | main:fetch_movie_data:188 - MatchesDict([('title', 'Fast Five'), ('year', 2011), ('screen_size', '1080p'), ('container', 'mp4'), ('mimetype', 'video/mp4'), ('type', 'movie')])\n",
      "2021-01-31 19:28:51.794 | WARNING  | main:fetch_movie_data:188 - MatchesDict([('title', 'Fatman'), ('year', 2020), ('screen_size', '1080p'), ('container', 'mp4'), ('mimetype', 'video/mp4'), ('type', 'movie')])\n",
      "2021-01-31 19:28:52.146 | WARNING  | main:fetch_movie_data:188 - MatchesDict([('title', 'Furious 6'), ('year', 2013), ('screen_size', '1080p'), ('container', 'mp4'), ('mimetype', 'video/mp4'), ('type', 'movie')])\n",
      "2021-01-31 19:28:52.397 | WARNING  | main:fetch_movie_data:188 - MatchesDict([('title', 'Game Night'), ('year', 2018), ('screen_size', '1080p'), ('source', 'Blu-ray'), ('video_codec', 'H.264'), ('release_group', 'YTS.AM'), ('container', 'mp4'), ('mimetype', 'video/mp4'), ('type', 'movie')])\n",
      "2021-01-31 19:28:52.743 | WARNING  | main:fetch_movie_data:188 - MatchesDict([('title', 'Ghost In The Shell'), ('year', 2017), ('screen_size', '1080p'), ('source', 'Blu-ray'), ('video_codec', 'H.264'), ('release_group', 'YTS.AG'), ('container', 'mp4'), ('mimetype', 'video/mp4'), ('type', 'movie')])\n",
      "2021-01-31 19:28:53.096 | WARNING  | main:fetch_movie_data:188 - MatchesDict([('title', 'Godzilla King Of The Monsters'), ('year', 2019), ('screen_size', '1080p'), ('container', 'mp4'), ('mimetype', 'video/mp4'), ('type', 'movie')])\n",
      "2021-01-31 19:28:53.436 | WARNING  | main:fetch_movie_data:188 - MatchesDict([('title', 'Guardians of the Galaxy'), ('year', 2014), ('screen_size', '1080p'), ('container', 'mp4'), ('mimetype', 'video/mp4'), ('type', 'movie')])\n",
      "2021-01-31 19:28:53.784 | WARNING  | main:fetch_movie_data:188 - MatchesDict([('title', 'Guardians Of The Galaxy Vol 2'), ('year', 2017), ('screen_size', '1080p'), ('source', 'Blu-ray'), ('video_codec', 'H.264'), ('release_group', 'YTS.AG'), ('container', 'mp4'), ('mimetype', 'video/mp4'), ('type', 'movie')])\n",
      "2021-01-31 19:28:54.106 | WARNING  | main:fetch_movie_data:188 - MatchesDict([('title', 'Hacksaw Ridge'), ('year', 2016), ('screen_size', '1080p'), ('source', 'Blu-ray'), ('video_codec', 'H.264'), ('release_group', 'YTS.AG'), ('container', 'mp4'), ('mimetype', 'video/mp4'), ('type', 'movie')])\n",
      "2021-01-31 19:28:54.486 | WARNING  | main:fetch_movie_data:188 - MatchesDict([('title', 'Hard Kill'), ('year', 2020), ('screen_size', '1080p'), ('container', 'mp4'), ('mimetype', 'video/mp4'), ('type', 'movie')])\n",
      "2021-01-31 19:28:54.842 | WARNING  | main:fetch_movie_data:188 - MatchesDict([('title', 'High Ground'), ('year', 2020), ('screen_size', '1080p'), ('container', 'mp4'), ('mimetype', 'video/mp4'), ('type', 'movie')])\n",
      "2021-01-31 19:28:55.063 | WARNING  | main:fetch_movie_data:188 - MatchesDict([('title', 'Honest Thief'), ('year', 2020), ('screen_size', '1080p'), ('container', 'mp4'), ('mimetype', 'video/mp4'), ('type', 'movie')])\n",
      "2021-01-31 19:28:55.452 | WARNING  | main:fetch_movie_data:188 - MatchesDict([('title', 'Inferno'), ('year', 2016), ('screen_size', '1080p'), ('source', 'Blu-ray'), ('video_codec', 'H.264'), ('release_group', 'YTS.AG'), ('container', 'mp4'), ('mimetype', 'video/mp4'), ('type', 'movie')])\n",
      "2021-01-31 19:28:55.794 | WARNING  | main:fetch_movie_data:139 - Movie not found: https://easy-movie.com.au/cdn/Interstellar.2014.2014.1080p.mp4\n",
      "2021-01-31 19:28:56.179 | WARNING  | main:fetch_movie_data:188 - MatchesDict([('title', 'Jack Reacher Never Go Back'), ('year', 2016), ('screen_size', '1080p'), ('source', 'Blu-ray'), ('video_codec', 'H.264'), ('release_group', 'YTS.AG'), ('container', 'mp4'), ('mimetype', 'video/mp4'), ('type', 'movie')])\n",
      "2021-01-31 19:28:56.557 | WARNING  | main:fetch_movie_data:188 - MatchesDict([('title', 'John Wick'), ('year', 2014), ('screen_size', '1080p'), ('source', 'Blu-ray'), ('video_codec', 'H.264'), ('release_group', 'YTS.AG'), ('container', 'mp4'), ('mimetype', 'video/mp4'), ('type', 'movie')])\n",
      "2021-01-31 19:28:56.792 | WARNING  | main:fetch_movie_data:188 - MatchesDict([('title', 'John Wick Chapter 3'), ('alternative_title', 'Parabellum'), ('year', 2019), ('screen_size', '1080p'), ('source', 'Blu-ray'), ('video_codec', 'H.264'), ('release_group', 'YTS.LT'), ('container', 'mp4'), ('mimetype', 'video/mp4'), ('type', 'movie')])\n"
     ]
    },
    {
     "name": "stderr",
     "output_type": "stream",
     "text": [
      "2021-01-31 19:28:57.148 | WARNING  | main:fetch_movie_data:188 - MatchesDict([('title', 'Johnny English Strikes Again'), ('year', 2018), ('screen_size', '1080p'), ('source', 'Blu-ray'), ('video_codec', 'H.264'), ('release_group', 'YTS.AM'), ('container', 'mp4'), ('mimetype', 'video/mp4'), ('type', 'movie')])\n",
      "2021-01-31 19:28:57.492 | WARNING  | main:fetch_movie_data:188 - MatchesDict([('title', 'Joker'), ('year', 2019), ('screen_size', '1080p'), ('container', 'mp4'), ('mimetype', 'video/mp4'), ('type', 'movie')])\n",
      "2021-01-31 19:28:57.852 | WARNING  | main:fetch_movie_data:188 - MatchesDict([('title', 'Jumanji The Next Level'), ('year', 2019), ('screen_size', '2160p'), ('source', 'Ultra HD Blu-ray'), ('video_codec', 'H.265'), ('color_depth', '10-bit'), ('audio_codec', 'AAC'), ('audio_channels', '7.1'), ('release_group', 'YTS.MX'), ('container', 'mkv'), ('mimetype', 'video/x-matroska'), ('type', 'movie')])\n",
      "2021-01-31 19:28:58.193 | WARNING  | main:fetch_movie_data:188 - MatchesDict([('title', 'Jumanji Welcome To The Jungle'), ('year', 2017), ('screen_size', '1080p'), ('source', 'Blu-ray'), ('video_codec', 'H.264'), ('release_group', 'YTS.AM'), ('container', 'mp4'), ('mimetype', 'video/mp4'), ('type', 'movie')])\n",
      "2021-01-31 19:28:58.524 | WARNING  | main:fetch_movie_data:188 - MatchesDict([('title', 'Jurassic World Fallen Kingdom'), ('year', 2018), ('screen_size', '1080p'), ('container', 'mp4'), ('mimetype', 'video/mp4'), ('type', 'movie')])\n",
      "2021-01-31 19:28:58.876 | WARNING  | main:fetch_movie_data:188 - MatchesDict([('title', 'Justice League'), ('year', 2017), ('screen_size', '1080p'), ('source', 'Blu-ray'), ('video_codec', 'H.264'), ('release_group', 'YTS.AM'), ('container', 'mp4'), ('mimetype', 'video/mp4'), ('type', 'movie')])\n",
      "2021-01-31 19:28:59.222 | WARNING  | main:fetch_movie_data:188 - MatchesDict([('title', 'Kevin Hart Zero F ks Given'), ('year', 2020), ('screen_size', '1080p'), ('container', 'mp4'), ('mimetype', 'video/mp4'), ('type', 'movie')])\n",
      "2021-01-31 19:28:59.461 | WARNING  | main:fetch_movie_data:188 - MatchesDict([('title', 'King Arthur Legend Of The Sword'), ('year', 2017), ('screen_size', '1080p'), ('source', 'Blu-ray'), ('video_codec', 'H.264'), ('release_group', 'YTS.AG'), ('container', 'mp4'), ('mimetype', 'video/mp4'), ('type', 'movie')])\n",
      "2021-01-31 19:28:59.807 | WARNING  | main:fetch_movie_data:188 - MatchesDict([('title', 'Kingsman The Golden Circle'), ('year', 2017), ('screen_size', '1080p'), ('source', 'Blu-ray'), ('video_codec', 'H.264'), ('release_group', 'YTS.AG'), ('container', 'mp4'), ('mimetype', 'video/mp4'), ('type', 'movie')])\n",
      "2021-01-31 19:29:00.174 | WARNING  | main:fetch_movie_data:188 - MatchesDict([('title', 'Knuckledust'), ('year', 2020), ('screen_size', '1080p'), ('container', 'mp4'), ('mimetype', 'video/mp4'), ('type', 'movie')])\n",
      "2021-01-31 19:29:00.666 | WARNING  | main:fetch_movie_data:188 - MatchesDict([('title', 'Kong Skull Island'), ('year', 2017), ('screen_size', '1080p'), ('source', 'Blu-ray'), ('video_codec', 'H.264'), ('release_group', 'YTS.AG'), ('container', 'mp4'), ('mimetype', 'video/mp4'), ('type', 'movie')])\n",
      "2021-01-31 19:29:01.077 | WARNING  | main:fetch_movie_data:188 - MatchesDict([('title', 'Legacy Of Lies'), ('year', 2020), ('screen_size', '1080p'), ('container', 'mp4'), ('mimetype', 'video/mp4'), ('type', 'movie')])\n",
      "2021-01-31 19:29:01.417 | WARNING  | main:fetch_movie_data:188 - MatchesDict([('title', 'Logan'), ('year', 2017), ('screen_size', '1080p'), ('source', 'Blu-ray'), ('video_codec', 'H.264'), ('release_group', 'YTS.AG'), ('container', 'mp4'), ('mimetype', 'video/mp4'), ('type', 'movie')])\n",
      "2021-01-31 19:29:01.657 | WARNING  | main:fetch_movie_data:188 - MatchesDict([('title', 'Lost At Christmas'), ('year', 2020), ('screen_size', '1080p'), ('container', 'mp4'), ('mimetype', 'video/mp4'), ('type', 'movie')])\n",
      "2021-01-31 19:29:02.001 | WARNING  | main:fetch_movie_data:188 - MatchesDict([('title', 'Love And Monsters'), ('year', 2020), ('screen_size', '1080p'), ('container', 'mp4'), ('mimetype', 'video/mp4'), ('type', 'movie')])\n",
      "2021-01-31 19:29:02.364 | WARNING  | main:fetch_movie_data:188 - MatchesDict([('title', 'Maze Runner The Death Cure'), ('year', 2018), ('screen_size', '1080p'), ('container', 'mp4'), ('mimetype', 'video/mp4'), ('type', 'movie')])\n",
      "2021-01-31 19:29:02.724 | WARNING  | main:fetch_movie_data:188 - MatchesDict([('title', 'Mile 22'), ('year', 2018), ('screen_size', '1080p'), ('source', 'Blu-ray'), ('video_codec', 'H.264'), ('release_group', 'YTS.AM'), ('container', 'mp4'), ('mimetype', 'video/mp4'), ('type', 'movie')])\n",
      "2021-01-31 19:29:02.943 | WARNING  | main:fetch_movie_data:188 - MatchesDict([('title', 'Minions Holiday Special'), ('year', 2020), ('screen_size', '1080p'), ('container', 'mp4'), ('mimetype', 'video/mp4'), ('type', 'movie')])\n",
      "2021-01-31 19:29:03.300 | WARNING  | main:fetch_movie_data:188 - MatchesDict([('title', 'Monsters Of Man'), ('year', 2020), ('screen_size', '1080p'), ('container', 'mp4'), ('mimetype', 'video/mp4'), ('type', 'movie')])\n",
      "2021-01-31 19:29:03.522 | WARNING  | main:fetch_movie_data:188 - MatchesDict([('title', 'Mortal Engines'), ('year', 2018), ('screen_size', '1080p'), ('source', 'Blu-ray'), ('video_codec', 'H.264'), ('release_group', 'YTS.AM'), ('container', 'mp4'), ('mimetype', 'video/mp4'), ('type', 'movie')])\n",
      "2021-01-31 19:29:03.865 | WARNING  | main:fetch_movie_data:188 - MatchesDict([('title', 'Mulan'), ('year', 2020), ('screen_size', '1080p'), ('container', 'mp4'), ('mimetype', 'video/mp4'), ('type', 'movie')])\n",
      "2021-01-31 19:29:04.247 | WARNING  | main:fetch_movie_data:188 - MatchesDict([('title', 'Our First Christmas'), ('year', 2008), ('screen_size', '1080p'), ('container', 'mp4'), ('mimetype', 'video/mp4'), ('type', 'movie')])\n",
      "2021-01-31 19:29:04.578 | WARNING  | main:fetch_movie_data:188 - MatchesDict([('title', 'Pacific Rim Uprising'), ('year', 2018), ('screen_size', '1080p'), ('container', 'mp4'), ('mimetype', 'video/mp4'), ('type', 'movie')])\n",
      "2021-01-31 19:29:04.910 | WARNING  | main:fetch_movie_data:188 - MatchesDict([('title', 'Passengers'), ('year', 2016), ('screen_size', '1080p'), ('source', 'Blu-ray'), ('video_codec', 'H.264'), ('release_group', 'YTS.AG'), ('container', 'mp4'), ('mimetype', 'video/mp4'), ('type', 'movie')])\n",
      "2021-01-31 19:29:05.271 | WARNING  | main:fetch_movie_data:188 - MatchesDict([('title', 'Price Of Love'), ('year', 2020), ('screen_size', '1080p'), ('container', 'mp4'), ('mimetype', 'video/mp4'), ('type', 'movie')])\n",
      "2021-01-31 19:29:05.623 | WARNING  | main:fetch_movie_data:188 - MatchesDict([('title', 'Project Power'), ('year', 2020), ('screen_size', '1080p'), ('container', 'mp4'), ('mimetype', 'video/mp4'), ('type', 'movie')])\n",
      "2021-01-31 19:29:05.959 | WARNING  | main:fetch_movie_data:188 - MatchesDict([('title', 'Rampage'), ('year', 2018), ('screen_size', '1080p'), ('source', 'Blu-ray'), ('video_codec', 'H.264'), ('release_group', 'YTS.AM'), ('container', 'mp4'), ('mimetype', 'video/mp4'), ('type', 'movie')])\n",
      "2021-01-31 19:29:06.192 | WARNING  | main:fetch_movie_data:188 - MatchesDict([('title', 'Ready Player One'), ('year', 2018), ('screen_size', '1080p'), ('container', 'mp4'), ('mimetype', 'video/mp4'), ('type', 'movie')])\n",
      "2021-01-31 19:29:06.552 | WARNING  | main:fetch_movie_data:188 - MatchesDict([('title', 'Rogue One'), ('year', 2016), ('screen_size', '1080p'), ('container', 'mp4'), ('mimetype', 'video/mp4'), ('type', 'movie')])\n",
      "2021-01-31 19:29:06.905 | WARNING  | main:fetch_movie_data:188 - MatchesDict([('title', 'Safety'), ('year', 2020), ('screen_size', '1080p'), ('container', 'mp4'), ('mimetype', 'video/mp4'), ('type', 'movie')])\n",
      "2021-01-31 19:29:07.151 | WARNING  | main:fetch_movie_data:188 - MatchesDict([('title', 'Sicario Day Of The Soldado'), ('year', 2018), ('screen_size', '1080p'), ('source', 'Blu-ray'), ('video_codec', 'H.264'), ('release_group', 'YTS.AM'), ('container', 'mp4'), ('mimetype', 'video/mp4'), ('type', 'movie')])\n",
      "2021-01-31 19:29:07.488 | WARNING  | main:fetch_movie_data:188 - MatchesDict([('title', 'Simulation Theory Film'), ('year', 2020), ('screen_size', '1080p'), ('container', 'mp4'), ('mimetype', 'video/mp4'), ('type', 'movie')])\n",
      "2021-01-31 19:29:07.859 | WARNING  | main:fetch_movie_data:188 - MatchesDict([('title', 'Skylines'), ('year', 2020), ('screen_size', '1080p'), ('container', 'mp4'), ('mimetype', 'video/mp4'), ('type', 'movie')])\n"
     ]
    },
    {
     "name": "stderr",
     "output_type": "stream",
     "text": [
      "2021-01-31 19:29:08.087 | WARNING  | main:fetch_movie_data:188 - MatchesDict([('title', 'Songbird'), ('year', 2020), ('screen_size', '1080p'), ('container', 'mp4'), ('mimetype', 'video/mp4'), ('type', 'movie')])\n",
      "2021-01-31 19:29:08.453 | WARNING  | main:fetch_movie_data:188 - MatchesDict([('title', 'Spare Parts'), ('year', 2020), ('screen_size', '1080p'), ('container', 'mp4'), ('mimetype', 'video/mp4'), ('type', 'movie')])\n",
      "2021-01-31 19:29:08.784 | WARNING  | main:fetch_movie_data:188 - MatchesDict([('title', 'Spenser Confidential'), ('year', 2020), ('screen_size', '1080p'), ('container', 'mp4'), ('mimetype', 'video/mp4'), ('type', 'movie')])\n",
      "2021-01-31 19:29:09.073 | WARNING  | main:fetch_movie_data:188 - MatchesDict([('release_group', 'Spider'), ('title', 'Man Far From Home'), ('year', 2019), ('screen_size', '1080p'), ('source', 'Blu-ray'), ('video_codec', 'H.264'), ('container', 'mp4'), ('mimetype', 'video/mp4'), ('type', 'movie')])\n",
      "2021-01-31 19:29:09.413 | WARNING  | main:fetch_movie_data:188 - MatchesDict([('release_group', 'Spider'), ('title', 'Man Homecoming'), ('year', 2017), ('screen_size', '1080p'), ('source', 'Blu-ray'), ('video_codec', 'H.264'), ('container', 'mp4'), ('mimetype', 'video/mp4'), ('type', 'movie')])\n",
      "2021-01-31 19:29:09.766 | WARNING  | main:fetch_movie_data:188 - MatchesDict([('title', 'Spider-Man Into The Spider-Verse'), ('year', 2018), ('screen_size', '1080p'), ('source', 'Blu-ray'), ('video_codec', 'H.264'), ('release_group', 'YTS.AM'), ('container', 'mp4'), ('mimetype', 'video/mp4'), ('type', 'movie')])\n",
      "2021-01-31 19:29:10.108 | WARNING  | main:fetch_movie_data:188 - MatchesDict([('title', 'Split'), ('year', 2016), ('screen_size', '1080p'), ('source', 'Blu-ray'), ('video_codec', 'H.264'), ('release_group', 'YTS.AG'), ('container', 'mp4'), ('mimetype', 'video/mp4'), ('type', 'movie')])\n",
      "2021-01-31 19:29:10.458 | WARNING  | main:fetch_movie_data:188 - MatchesDict([('title', 'Star Wars Episode VII'), ('alternative_title', 'The Force Awakens'), ('year', 2015), ('screen_size', '1080p'), ('source', 'Blu-ray'), ('video_codec', 'H.264'), ('release_group', 'YTS.AG'), ('container', 'mp4'), ('mimetype', 'video/mp4'), ('type', 'movie')])\n",
      "2021-01-31 19:29:10.793 | WARNING  | main:fetch_movie_data:188 - MatchesDict([('title', 'Suicide Squad'), ('year', 2016), ('screen_size', '1080p'), ('container', 'mp4'), ('mimetype', 'video/mp4'), ('type', 'movie')])\n",
      "2021-01-31 19:29:11.138 | WARNING  | main:fetch_movie_data:188 - MatchesDict([('title', 'Sully'), ('year', 2016), ('screen_size', '1080p'), ('source', 'Blu-ray'), ('video_codec', 'H.264'), ('release_group', 'YTS.AG'), ('container', 'mp4'), ('mimetype', 'video/mp4'), ('type', 'movie')])\n",
      "2021-01-31 19:29:11.473 | WARNING  | main:fetch_movie_data:188 - MatchesDict([('title', 'Superhuman The Invisible Made Visible'), ('year', 2020), ('screen_size', '1080p'), ('container', 'mp4'), ('mimetype', 'video/mp4'), ('type', 'movie')])\n",
      "2021-01-31 19:29:11.736 | WARNING  | main:fetch_movie_data:188 - MatchesDict([('title', 'Survive The Night'), ('year', 2020), ('screen_size', '1080p'), ('container', 'mp4'), ('mimetype', 'video/mp4'), ('type', 'movie')])\n",
      "2021-01-31 19:29:12.096 | WARNING  | main:fetch_movie_data:188 - MatchesDict([('title', 'Tenet'), ('year', 2020), ('screen_size', '1080p'), ('container', 'mp4'), ('mimetype', 'video/mp4'), ('type', 'movie')])\n",
      "2021-01-31 19:29:12.508 | WARNING  | main:fetch_movie_data:188 - MatchesDict([('title', 'Terminator Dark Fate'), ('year', 2019), ('screen_size', '1080p'), ('container', 'mp4'), ('mimetype', 'video/mp4'), ('type', 'movie')])\n",
      "2021-01-31 19:29:12.861 | WARNING  | main:fetch_movie_data:188 - MatchesDict([('title', 'The 2nd'), ('year', 2020), ('screen_size', '1080p'), ('container', 'mp4'), ('mimetype', 'video/mp4'), ('type', 'movie')])\n",
      "2021-01-31 19:29:13.382 | WARNING  | main:fetch_movie_data:188 - MatchesDict([('title', 'The 5th Wave'), ('year', 2016), ('screen_size', '1080p'), ('source', 'Blu-ray'), ('video_codec', 'H.264'), ('release_group', 'YTS.AG'), ('container', 'mp4'), ('mimetype', 'video/mp4'), ('type', 'movie')])\n",
      "2021-01-31 19:29:13.647 | WARNING  | main:fetch_movie_data:188 - MatchesDict([('title', 'The Accountant'), ('year', 2016), ('screen_size', '1080p'), ('source', 'Blu-ray'), ('video_codec', 'H.264'), ('release_group', 'YTS.AG'), ('container', 'mp4'), ('mimetype', 'video/mp4'), ('type', 'movie')])\n",
      "2021-01-31 19:29:14.139 | WARNING  | main:fetch_movie_data:188 - MatchesDict([('title', 'The Call Of The Wild'), ('year', 2020), ('screen_size', '1080p'), ('container', 'mp4'), ('mimetype', 'video/mp4'), ('type', 'movie')])\n",
      "2021-01-31 19:29:14.374 | WARNING  | main:fetch_movie_data:188 - MatchesDict([('title', 'The Dark Knight'), ('year', 2008), ('screen_size', '2160p'), ('source', 'Ultra HD Blu-ray'), ('video_codec', 'H.265'), ('color_depth', '10-bit'), ('audio_codec', 'AAC'), ('audio_channels', '5.1'), ('release_group', 'YTS.MX'), ('container', 'mkv'), ('mimetype', 'video/x-matroska'), ('type', 'movie')])\n",
      "2021-01-31 19:29:14.730 | WARNING  | main:fetch_movie_data:188 - MatchesDict([('title', 'The Equalizer 2'), ('year', 2018), ('screen_size', '1080p'), ('source', 'Blu-ray'), ('video_codec', 'H.264'), ('release_group', 'YTS.AM'), ('container', 'mp4'), ('mimetype', 'video/mp4'), ('type', 'movie')])\n",
      "2021-01-31 19:29:15.082 | WARNING  | main:fetch_movie_data:188 - MatchesDict([('title', 'The Fast and the Furious'), ('year', 2001), ('screen_size', '1080p'), ('container', 'mp4'), ('mimetype', 'video/mp4'), ('type', 'movie')])\n",
      "2021-01-31 19:29:15.444 | WARNING  | main:fetch_movie_data:139 - Movie not found: https://easy-movie.com.au/cdn/The.Fast.and.the.Furious.Tokyo.Drift.2011.1080p.BrRip.x264.YIFY.mp4\n",
      "2021-01-31 19:29:15.784 | WARNING  | main:fetch_movie_data:188 - MatchesDict([('title', 'The Foreigner'), ('year', 2017), ('screen_size', '1080p'), ('source', 'Blu-ray'), ('video_codec', 'H.264'), ('release_group', 'YTS.AG'), ('container', 'mp4'), ('mimetype', 'video/mp4'), ('type', 'movie')])\n",
      "2021-01-31 19:29:16.142 | WARNING  | main:fetch_movie_data:188 - MatchesDict([('title', 'The Great Wall'), ('year', 2016), ('screen_size', '1080p'), ('source', 'Blu-ray'), ('video_codec', 'H.264'), ('release_group', 'YTS.AG'), ('container', 'mp4'), ('mimetype', 'video/mp4'), ('type', 'movie')])\n",
      "2021-01-31 19:29:16.504 | WARNING  | main:fetch_movie_data:188 - MatchesDict([('title', 'The Hobbit The Battle of the Five Armies'), ('year', 2014), ('screen_size', '1080p'), ('source', 'Blu-ray'), ('video_codec', 'H.264'), ('release_group', 'YIFY'), ('container', 'mp4'), ('mimetype', 'video/mp4'), ('type', 'movie')])\n",
      "2021-01-31 19:29:16.859 | WARNING  | main:fetch_movie_data:188 - MatchesDict([('title', 'The Hunger Games Mockingjay'), ('part', 2), ('year', 2015), ('screen_size', '1080p'), ('source', 'Blu-ray'), ('video_codec', 'H.264'), ('release_group', 'YTS.AG'), ('container', 'mp4'), ('mimetype', 'video/mp4'), ('type', 'movie')])\n",
      "2021-01-31 19:29:17.218 | WARNING  | main:fetch_movie_data:188 - MatchesDict([('title', 'The Hunger Games Mockingjay'), ('part', 1), ('year', 2014), ('screen_size', '1080p'), ('source', 'Blu-ray'), ('video_codec', 'H.264'), ('release_group', 'YIFY'), ('container', 'mp4'), ('mimetype', 'video/mp4'), ('type', 'movie')])\n",
      "2021-01-31 19:29:17.489 | WARNING  | main:fetch_movie_data:188 - MatchesDict([('title', 'The Invisible Man'), ('year', 2020), ('screen_size', '1080p'), ('container', 'mp4'), ('mimetype', 'video/mp4'), ('type', 'movie')])\n",
      "2021-01-31 19:29:17.852 | WARNING  | main:fetch_movie_data:188 - MatchesDict([('title', 'The Magnificent Seven'), ('year', 2016), ('screen_size', '1080p'), ('source', 'Blu-ray'), ('video_codec', 'H.264'), ('release_group', 'YTS.AG'), ('container', 'mp4'), ('mimetype', 'video/mp4'), ('type', 'movie')])\n",
      "2021-01-31 19:29:18.095 | WARNING  | main:fetch_movie_data:188 - MatchesDict([('title', 'The Meg'), ('year', 2018), ('screen_size', '1080p'), ('container', 'mp4'), ('mimetype', 'video/mp4'), ('type', 'movie')])\n",
      "2021-01-31 19:29:18.369 | WARNING  | main:fetch_movie_data:188 - MatchesDict([('title', 'The Old Guard'), ('year', 2020), ('screen_size', '1080p'), ('container', 'mp4'), ('mimetype', 'video/mp4'), ('type', 'movie')])\n"
     ]
    },
    {
     "name": "stderr",
     "output_type": "stream",
     "text": [
      "2021-01-31 19:29:18.747 | WARNING  | main:fetch_movie_data:188 - MatchesDict([('title', 'The Revenant'), ('year', 2015), ('screen_size', '1080p'), ('source', 'Blu-ray'), ('video_codec', 'H.264'), ('release_group', 'YTS.AG'), ('container', 'mp4'), ('mimetype', 'video/mp4'), ('type', 'movie')])\n",
      "2021-01-31 19:29:19.126 | WARNING  | main:fetch_movie_data:188 - MatchesDict([('title', 'The War With Grandpa'), ('year', 2020), ('screen_size', '1080p'), ('container', 'mp4'), ('mimetype', 'video/mp4'), ('type', 'movie')])\n",
      "2021-01-31 19:29:19.477 | WARNING  | main:fetch_movie_data:188 - MatchesDict([('title', 'The Wolf of Wall Street'), ('year', 2013), ('screen_size', '1080p'), ('source', 'Blu-ray'), ('video_codec', 'H.264'), ('release_group', 'YIFY'), ('container', 'mp4'), ('mimetype', 'video/mp4'), ('type', 'movie')])\n",
      "2021-01-31 19:29:19.822 | WARNING  | main:fetch_movie_data:188 - MatchesDict([('title', 'The Wrong Trousers'), ('year', 1993), ('screen_size', '1080p'), ('container', 'mp4'), ('mimetype', 'video/mp4'), ('type', 'movie')])\n",
      "2021-01-31 19:29:20.162 | WARNING  | main:fetch_movie_data:188 - MatchesDict([('title', 'Thor Ragnarok'), ('year', 2017), ('screen_size', '1080p'), ('source', 'Blu-ray'), ('video_codec', 'H.264'), ('release_group', 'YTS.AM'), ('container', 'mp4'), ('mimetype', 'video/mp4'), ('type', 'movie')])\n",
      "2021-01-31 19:29:20.510 | WARNING  | main:fetch_movie_data:188 - MatchesDict([('title', 'Thor The Dark World'), ('year', 2013), ('screen_size', '1080p'), ('source', 'Blu-ray'), ('video_codec', 'H.264'), ('release_group', 'YIFY'), ('container', 'mp4'), ('mimetype', 'video/mp4'), ('type', 'movie')])\n",
      "2021-01-31 19:29:20.889 | WARNING  | main:fetch_movie_data:188 - MatchesDict([('title', 'Top Gear'), ('year', 2002), ('screen_size', '1080p'), ('container', 'mp4'), ('mimetype', 'video/mp4'), ('type', 'movie')])\n",
      "2021-01-31 19:29:20.890 | WARNING  | main:parse_txt:231 - Found Top Gear but no year found for https://easy-movie.com.au/cdn/Top.Gear.2002.1080p.mp4\n",
      "2021-01-31 19:29:21.225 | WARNING  | main:fetch_movie_data:139 - Movie not found: https://easy-movie.com.au/cdn/Top.Gear.Africa.Special.mp4\n",
      "2021-01-31 19:29:21.613 | WARNING  | main:fetch_movie_data:188 - MatchesDict([('title', 'Toy Story'), ('year', 1995), ('screen_size', '1080p'), ('container', 'mp4'), ('mimetype', 'video/mp4'), ('type', 'movie')])\n",
      "2021-01-31 19:29:21.970 | WARNING  | main:fetch_movie_data:188 - MatchesDict([('title', 'Toy Story 2'), ('year', 1999), ('screen_size', '1080p'), ('container', 'mp4'), ('mimetype', 'video/mp4'), ('type', 'movie')])\n",
      "2021-01-31 19:29:22.326 | WARNING  | main:fetch_movie_data:188 - MatchesDict([('title', 'Toy Story 3'), ('year', 2010), ('screen_size', '1080p'), ('container', 'mp4'), ('mimetype', 'video/mp4'), ('type', 'movie')])\n",
      "2021-01-31 19:29:22.675 | WARNING  | main:fetch_movie_data:188 - MatchesDict([('title', 'Transformers The Last Knight'), ('year', 2017), ('screen_size', '1080p'), ('source', 'Blu-ray'), ('video_codec', 'H.264'), ('release_group', 'YTS.AG'), ('container', 'mp4'), ('mimetype', 'video/mp4'), ('type', 'movie')])\n",
      "2021-01-31 19:29:23.014 | WARNING  | main:fetch_movie_data:188 - MatchesDict([('title', 'Underwater'), ('year', 2020), ('screen_size', '1080p'), ('container', 'mp4'), ('mimetype', 'video/mp4'), ('type', 'movie')])\n",
      "2021-01-31 19:29:23.393 | WARNING  | main:fetch_movie_data:188 - MatchesDict([('title', 'Unhinged'), ('year', 2020), ('screen_size', '1080p'), ('container', 'mp4'), ('mimetype', 'video/mp4'), ('type', 'movie')])\n",
      "2021-01-31 19:29:23.781 | WARNING  | main:fetch_movie_data:188 - MatchesDict([('title', 'Venom'), ('year', 2018), ('screen_size', '1080p'), ('source', 'Blu-ray'), ('video_codec', 'H.264'), ('release_group', 'YTS.AM'), ('container', 'mp4'), ('mimetype', 'video/mp4'), ('type', 'movie')])\n",
      "2021-01-31 19:29:24.160 | WARNING  | main:fetch_movie_data:188 - MatchesDict([('title', 'Wander'), ('year', 2020), ('screen_size', '1080p'), ('container', 'mp4'), ('mimetype', 'video/mp4'), ('type', 'movie')])\n",
      "2021-01-31 19:29:24.385 | WARNING  | main:fetch_movie_data:188 - MatchesDict([('title', 'War For The Planet Of The Apes'), ('year', 2017), ('screen_size', '1080p'), ('container', 'mp4'), ('mimetype', 'video/mp4'), ('type', 'movie')])\n",
      "2021-01-31 19:29:24.730 | WARNING  | main:fetch_movie_data:188 - MatchesDict([('title', 'Wonder Woman'), ('year', 2017), ('screen_size', '1080p'), ('source', 'Blu-ray'), ('video_codec', 'H.264'), ('release_group', 'YTS.AG'), ('container', 'mp4'), ('mimetype', 'video/mp4'), ('type', 'movie')])\n",
      "2021-01-31 19:29:25.090 | WARNING  | main:fetch_movie_data:188 - MatchesDict([('other', 'XXX'), ('title', 'Return Of Xander Cage'), ('year', 2017), ('screen_size', '1080p'), ('source', 'Blu-ray'), ('video_codec', 'H.264'), ('release_group', 'YTS.AG'), ('container', 'mp4'), ('mimetype', 'video/mp4'), ('type', 'movie')])\n",
      "2021-01-31 19:29:25.438 | WARNING  | main:fetch_movie_data:188 - MatchesDict([('title', 'You Should Have Left'), ('year', 2020), ('screen_size', '1080p'), ('container', 'mp4'), ('mimetype', 'video/mp4'), ('type', 'movie')])\n",
      "2021-01-31 19:29:25.801 | WARNING  | main:fetch_movie_data:188 - MatchesDict([('title', 'Zappa'), ('year', 2020), ('screen_size', '1080p'), ('container', 'mp4'), ('mimetype', 'video/mp4'), ('type', 'movie')])\n"
     ]
    }
   ],
   "source": [
    "# Import from a file made by koalabot\n",
    "\n",
    "import main\n",
    "open_directory_url = 'https://easy-movie.com.au/cdn/'\n",
    "reddit_post = 'https://www.reddit.com/r/opendirectories/comments/l9d1e7/small_but_fast_open_directory_with_movies_and/'\n",
    "fn = 'https___easy-movie.com.au_cdn_.txt'\n",
    "movies = [movie for movie in main.parse_txt(f'./urls/{fn}', exclude_substr=\".trailer.\") if movie]\n",
    "main.output_movies(movies)\n",
    "for movie in movies:\n",
    "    main.index_single_movie(movie, open_directory_url, reddit_post)\n"
   ]
  },
  {
   "cell_type": "code",
   "execution_count": 2,
   "metadata": {},
   "outputs": [
    {
     "data": {
      "text/plain": [
       "144"
      ]
     },
     "execution_count": 2,
     "metadata": {},
     "output_type": "execute_result"
    }
   ],
   "source": [
    "len(movies)\n",
    "\n"
   ]
  },
  {
   "cell_type": "code",
   "execution_count": 22,
   "metadata": {},
   "outputs": [
    {
     "name": "stdout",
     "output_type": "stream",
     "text": [
      "True\n"
     ]
    }
   ],
   "source": [
    "from main import MovieSchema\n",
    "import marshmallow as ma\n",
    "try:\n",
    "    movie = MovieSchema().load({'imdb_rating': \"a\"})\n",
    "except ma.ValidationError as e:\n",
    "    print('imdb_rating' in e.messages)\n"
   ]
  },
  {
   "cell_type": "code",
   "execution_count": null,
   "metadata": {
    "tags": [
     "outputPrepend"
    ]
   },
   "outputs": [],
   "source": [
    "import main\n",
    "from loguru import logger\n",
    "import arrow\n",
    "\n",
    "\n",
    "sources = [\n",
    "    # {\n",
    "    #     'd': 'http://107.178.10.182:8800/',\n",
    "    #     'r': 'https://www.reddit.com/r/opendirectories/comments/kd590f/pretty_good_collection_of_movies_pretty_slow/'\n",
    "    # },\n",
    "    # {\n",
    "    #     'd': 'http://5.189.155.154/',\n",
    "    #     'r': 'https://www.reddit.com/r/opendirectories/comments/kd67ig/just_about_everything_with_good_download_speed/'\n",
    "    # },\n",
    "    # {\n",
    "    #     'd': 'http://90.253.151.193:8800/',\n",
    "    #     'r': 'https://www.reddit.com/r/opendirectories/comments/kd6obo/over_2tb_of_movies_series_well_organized_and/'\n",
    "    # },\n",
    "    # {\n",
    "    #     'd': 'https://209.141.42.78/',\n",
    "    #     'r': 'https://www.reddit.com/r/opendirectories/comments/kd6cjf/700gb_of_tv_anime_movies_porn_good_quality_and/'\n",
    "    # },\n",
    "    # {\n",
    "    #     'd': 'http://185.191.78.214/',\n",
    "    #     'r': 'https://www.reddit.com/r/opendirectories/comments/kcs28h/http18519178214/'\n",
    "    # },\n",
    "    # {\n",
    "    #     'd': 'http://37.187.115.51/',\n",
    "    #     'r': 'https://www.reddit.com/r/opendirectories/comments/kejqqt/cult_porn_cultporn_and_vanilla/'\n",
    "    # },\n",
    "#     {\n",
    "#         'd': 'http://anilist1.ir/Movie/',\n",
    "#         'r': 'https://www.reddit.com/r/opendirectories/comments/j6onol/2020_movies_some_maybe_of_2019/'\n",
    "#     },\n",
    "    {\n",
    "        'd': 'https://easy-movie.com.au/cdn/',\n",
    "        'r': 'https://www.reddit.com/r/opendirectories/comments/kqy6id/some_1080p_movies/'\n",
    "    }\n",
    "]\n",
    "\n",
    "movies = []\n",
    "\n",
    "for source in sources:\n",
    "    for movie in main.parse_html_directory(source['d']):\n",
    "        if movie:\n",
    "            movies.append(movie)\n",
    "            try:\n",
    "                main.index_single_movie(movie, open_directory_url=source['d'], reddit_source=source['r'])\n",
    "            except Exception as e:\n",
    "                logger.error(f'Error {e} encountered with {movie}')\n",
    "    main.output_movies(movies, fn=f'{arrow.now().timestamp}.md')\n",
    "    print(len(movies))"
   ]
  },
  {
   "cell_type": "code",
   "execution_count": null,
   "metadata": {},
   "outputs": [],
   "source": [
    "from main import output_movies\n",
    "output_movies(movies, fn=\"easy-movie.com.au\")\n"
   ]
  },
  {
   "cell_type": "code",
   "execution_count": null,
   "metadata": {
    "scrolled": true
   },
   "outputs": [],
   "source": [
    "def sort_by_rating(movies):\n",
    "    print(\"|Title|IMDB rating|\\n| ------------ | ------------ |\")\n",
    "    sorted_by_rating = sorted(movies, key=lambda m: m.get('imdbRating', 'N/A'), reverse=True)\n",
    "    for m in [m for m in sorted_by_rating if m.get('imdbRating', 'N/A') != 'N/A'][:25]:\n",
    "        if (m.get('Title') and m.get('imdbRating', 'N/A') != 'N/A'):\n",
    "            print(f\"|[{m['Title']}]({m['fileUrl']}) ({m['Year']}, {m['Director']}) {m['Genre']} | [{m['imdbRating']}]({m['imdbUrl']})\")\n",
    "\n",
    "sort_by_rating(movie_data)\n"
   ]
  },
  {
   "cell_type": "code",
   "execution_count": 5,
   "metadata": {},
   "outputs": [
    {
     "data": {
      "text/plain": [
       "{'created_at': 1608043772,\n",
       " 'default_sorting_field': 'imdb_rating',\n",
       " 'fields': [{'facet': False,\n",
       "   'name': 'id',\n",
       "   'optional': False,\n",
       "   'type': 'string'},\n",
       "  {'facet': True, 'name': 'source_post', 'optional': False, 'type': 'string'},\n",
       "  {'facet': True,\n",
       "   'name': 'directory_url',\n",
       "   'optional': False,\n",
       "   'type': 'string'},\n",
       "  {'facet': True, 'name': 'screen_size', 'optional': True, 'type': 'string'},\n",
       "  {'facet': False, 'name': 'imdb_id', 'optional': False, 'type': 'string'},\n",
       "  {'facet': False, 'name': 'title', 'optional': False, 'type': 'string'},\n",
       "  {'facet': False, 'name': 'imdb_rating', 'optional': False, 'type': 'float'},\n",
       "  {'facet': True, 'name': 'year', 'optional': True, 'type': 'int32'},\n",
       "  {'facet': True, 'name': 'genres', 'optional': False, 'type': 'string[]'},\n",
       "  {'facet': True, 'name': 'director', 'optional': False, 'type': 'string'},\n",
       "  {'facet': False, 'name': 'imdb_url', 'optional': False, 'type': 'string'},\n",
       "  {'facet': True, 'name': 'language', 'optional': True, 'type': 'string'},\n",
       "  {'facet': False, 'name': 'last_seen', 'optional': False, 'type': 'int64'}],\n",
       " 'name': 'movies',\n",
       " 'num_documents': 13248,\n",
       " 'num_memory_shards': 4}"
      ]
     },
     "execution_count": 5,
     "metadata": {},
     "output_type": "execute_result"
    }
   ],
   "source": [
    "from main import typesense_client\n",
    "typesense_client.collections['movies'].retrieve()"
   ]
  },
  {
   "cell_type": "code",
   "execution_count": null,
   "metadata": {},
   "outputs": [],
   "source": [
    "def output_movies(movies, fn=None, sort_by=\"rating\"):\n",
    "    fn = fn if fn else 'movies.md'\n",
    "    header = \"|Title|IMDB rating|\\n| ------------ | ------------ |\\n\"\n",
    "    with open(fn, 'w') as f:\n",
    "        f.write(header)\n",
    "        for movie in movies:\n",
    "            if movie.get('title'):\n",
    "                # try:\n",
    "                line_to_add = f\"\"\"|[{movie['title']}]({movie['file_url']}) ({movie['year']}, {movie['director']}) {\", \".join(movie['genres'])} | [{movie['imdb_rating']}]({movie['imdb_url']})\"\"\"\n",
    "    #                     line_to_add = f\"|**{omdb_data['Title']}** ({omdb_data['Year']}, {omdb_data['Director']}) [💾]({omdb_data['file_url']}) | [{omdb_data['imdbRating']}]({omdb_data['imdbUrl']}) \"\n",
    "            #     except (KeyError, ValueError):\n",
    "            #         line_to_add = f\"|{movie['file_url']} | [💾]({movie['file_url']}) |\"\n",
    "            else:\n",
    "                line_to_add = f\"|{movie['file_url']} | [💾]({movie['file_url']}) |\"\n",
    "\n",
    "            f.write(f'{line_to_add}\\n')\n",
    "\n",
    "output_movies(movies)"
   ]
  },
  {
   "cell_type": "code",
   "execution_count": null,
   "metadata": {},
   "outputs": [],
   "source": [
    "from main import typesense_client\n",
    "idx = 0\n",
    "for movie in movies:\n",
    "    movie['directory_url'] = 'https://easy-movie.com.au/cdn/'\n",
    "    movie['source_post'] = 'https://www.reddit.com/r/opendirectories/comments/kihwdd/4_hdds_worth_of_hollywood_and_foreign_movies/'\n",
    "    if not isinstance(movie.get('language', None), str):\n",
    "        try:\n",
    "            movie['language'] = ','.join([language.alpha3 for language in movie.get('language')]) if movie.get('language') else ''\n",
    "        except TypeError:   # Not iterable, so single language\n",
    "            movie['language'] = movie.get('language').alpha3 if movie.get('language') else ''\n",
    "    typesense_client.collections['movies'].documents.upsert(movie)\n",
    "    print(idx)\n",
    "    idx+=1\n",
    "\n"
   ]
  },
  {
   "cell_type": "code",
   "execution_count": 33,
   "metadata": {},
   "outputs": [
    {
     "name": "stdout",
     "output_type": "stream",
     "text": [
      "['__class__', '__contains__', '__delattr__', '__delitem__', '__dir__', '__doc__', '__eq__', '__format__', '__ge__', '__getattribute__', '__getitem__', '__gt__', '__hash__', '__init__', '__init_subclass__', '__iter__', '__le__', '__len__', '__lt__', '__ne__', '__new__', '__reduce__', '__reduce_ex__', '__repr__', '__reversed__', '__setattr__', '__setitem__', '__sizeof__', '__str__', '__subclasshook__', 'clear', 'copy', 'fromkeys', 'get', 'items', 'keys', 'pop', 'popitem', 'setdefault', 'update', 'values']\n",
      "1\n",
      "{'document': {'director': 'Chris Sanders', 'directory_url': 'http://103.214.156.1/movies/', 'file_url': 'http://103.214.156.1/movies/others/korean/Call%20(2020)/Call.2020.720p.WEBRip.x264.AAC-%5BYTS.MX%5D.mp4', 'genres': ['Adventure', 'Drama', 'Family'], 'id': 'http://103.214.156.1/movies/others/korean/Call (2020)/Call.2020.720p.WEBRip.x264.AAC-[YTS.MX].mp4', 'imdb_id': 'tt7504726', 'imdb_rating': 6.8, 'imdb_url': 'https://www.imdb.com/title/tt7504726/reference', 'language': '', 'last_seen': 1611409786, 'screen_size': '720p', 'source_post': 'https://www.reddit.com/r/opendirectories/comments/l35yng/movies_2018_2020_korean_movies_some_tv_shows_kids/', 'title': 'The Call of the Wild', 'year': 2020}, 'highlights': [{'field': 'title', 'matched_tokens': ['The', 'Call', 'of', 'the', 'Wild'], 'snippet': '<mark>The</mark> <mark>Call</mark> <mark>of</mark> <mark>the</mark> <mark>Wild</mark>'}], 'text_match': 83845476}\n"
     ]
    }
   ],
   "source": [
    "from main import typesense_client\n",
    "import requests\n",
    "q = {\n",
    "    'q': 'Call of the Wild',\n",
    "    'query_by': 'title',\n",
    "    'filter_by': 'directory_url:=http://103.214.156.1/movies/ && director:=Chris Sanders',\n",
    "    'max_hits': 'all',\n",
    "    'per_page': 250,\n",
    "    'num_typos': 0\n",
    "}\n",
    "idx = 0\n",
    "result = typesense_client.collections['movies'].documents.search(q)\n",
    "print(dir(result))\n",
    "print(result['found'])\n",
    "for hit in result['hits']:\n",
    "    print(hit)\n",
    "\n"
   ]
  },
  {
   "cell_type": "code",
   "execution_count": null,
   "metadata": {
    "tags": []
   },
   "outputs": [],
   "source": [
    "import mimetypes, requests, difflib\n",
    "with open('./urls/http___37.187.115.51_.txt', 'r') as f:\n",
    "    r = f.readline()\n",
    "    while r:\n",
    "        # if 'http://37.187.115.51/Lost.Place.2013.GERMAN.1080p.BluRay.H264.AAC-VXT/Lost.Place.2013.GERMAN.1080p.BluRay.H264.AAC-VXT.mp4' in r:\n",
    "        #     print(difflib.ndiff(r, 'http://37.187.115.51/Lost.Place.2013.GERMAN.1080p.BluRay.H264.AAC-VXT/Lost.Place.2013.GERMAN.1080p.BluRay.H264.AAC-VXT.mp4'))            \n",
    "        filetype, _ =  mimetypes.guess_type(r.strip())\n",
    "        print(filetype)\n",
    "        r = f.readline()\n",
    "\n",
    "# print(mimetypes.guess_type('http://37.187.115.51/Lost.Place.2013.GERMAN.1080p.BluRay.H264.AAC-VXT/Lost.Place.2013.GERMAN.1080p.BluRay.H264.AAC-VXT.mp4'))\n"
   ]
  },
  {
   "cell_type": "code",
   "execution_count": 3,
   "metadata": {},
   "outputs": [
    {
     "ename": "AttributeError",
     "evalue": "'Documents' object has no attribute 'delete'",
     "output_type": "error",
     "traceback": [
      "\u001b[0;31m---------------------------------------------------------------------------\u001b[0m",
      "\u001b[0;31mAttributeError\u001b[0m                            Traceback (most recent call last)",
      "\u001b[0;32m<ipython-input-3-890bbf55d7a9>\u001b[0m in \u001b[0;36m<module>\u001b[0;34m\u001b[0m\n\u001b[1;32m      9\u001b[0m \u001b[0;34m\u001b[0m\u001b[0m\n\u001b[1;32m     10\u001b[0m \u001b[0mcollection\u001b[0m \u001b[0;34m=\u001b[0m \u001b[0mtypesense_client\u001b[0m\u001b[0;34m.\u001b[0m\u001b[0mcollections\u001b[0m\u001b[0;34m[\u001b[0m\u001b[0;34m'movies'\u001b[0m\u001b[0;34m]\u001b[0m\u001b[0;34m\u001b[0m\u001b[0;34m\u001b[0m\u001b[0m\n\u001b[0;32m---> 11\u001b[0;31m \u001b[0mtypesense_client\u001b[0m\u001b[0;34m.\u001b[0m\u001b[0mcollections\u001b[0m\u001b[0;34m[\u001b[0m\u001b[0;34m'movies'\u001b[0m\u001b[0;34m]\u001b[0m\u001b[0;34m.\u001b[0m\u001b[0mdocuments\u001b[0m\u001b[0;34m.\u001b[0m\u001b[0mdelete\u001b[0m\u001b[0;34m(\u001b[0m\u001b[0;34m{\u001b[0m\u001b[0;34m'filter_by'\u001b[0m\u001b[0;34m:\u001b[0m \u001b[0;34m'directory_url:https://easy-movie.com.au/cdn/'\u001b[0m\u001b[0;34m}\u001b[0m\u001b[0;34m)\u001b[0m\u001b[0;34m\u001b[0m\u001b[0;34m\u001b[0m\u001b[0m\n\u001b[0m\u001b[1;32m     12\u001b[0m \u001b[0;34m\u001b[0m\u001b[0m\n\u001b[1;32m     13\u001b[0m \u001b[0;31m# result = typesense_client.collections['movies'].documents.search(q)\u001b[0m\u001b[0;34m\u001b[0m\u001b[0;34m\u001b[0m\u001b[0;34m\u001b[0m\u001b[0m\n",
      "\u001b[0;31mAttributeError\u001b[0m: 'Documents' object has no attribute 'delete'"
     ]
    }
   ],
   "source": [
    "# Delete movies\n",
    "from main import typesense_client\n",
    "q = {\n",
    "    'q': 'http://cdn.s-flix.live/',\n",
    "    'query_by': 'directory_url',\n",
    "    'max_hits': 'all',\n",
    "    'per_page': 250\n",
    "}\n",
    "\n",
    "collection = typesense_client.collections['movies']\n",
    "typesense_client.collections['movies'].documents.delete({'filter_by': 'directory_url:https://easy-movie.com.au/cdn/'})\n",
    "\n",
    "# result = typesense_client.collections['movies'].documents.search(q)\n",
    "# for hit in result['hits']:\n",
    "#     print(hit['document'])\n",
    "#     client.collections['companies'].documents('124').delete()\n",
    "#     typesense_client.collections['movies'].documents(hit['document']['id']).delete()"
   ]
  },
  {
   "cell_type": "code",
   "execution_count": 48,
   "metadata": {},
   "outputs": [
    {
     "name": "stdout",
     "output_type": "stream",
     "text": [
      "MatchesDict([('title', 'Call'), ('year', 2020), ('screen_size', '720p'), ('source', 'Web'), ('other', 'Rip'), ('video_codec', 'H.264'), ('audio_codec', 'AAC'), ('release_group', 'YTS.MX'), ('container', 'mp4'), ('mimetype', 'video/mp4'), ('type', 'movie')])\n"
     ]
    },
    {
     "data": {
      "text/plain": [
       "{'director': 'Chung-Hyun Lee',\n",
       " 'directory_url': 'http://103.214.156.1/movies/',\n",
       " 'file_url': 'http://103.214.156.1/movies/others/korean/Call%20(2020)/Call.2020.720p.WEBRip.x264.AAC-%5BYTS.MX%5D.mp4',\n",
       " 'genres': ['Crime', 'Horror', 'Mystery', 'Thriller'],\n",
       " 'id': 'http://103.214.156.1/movies/others/korean/Call%20(2020)/Call.2020.720p.WEBRip.x264.AAC-%5BYTS.MX%5D.mp4',\n",
       " 'imdb_id': 'tt10530176',\n",
       " 'imdb_rating': 7.1,\n",
       " 'imdb_url': 'https://www.imdb.com/title/tt10530176/reference',\n",
       " 'last_seen': 1611479653,\n",
       " 'source_post': 'https://www.reddit.com/r/opendirectories/comments/l35yng/movies_2018_2020_korean_movies_some_tv_shows_kids/',\n",
       " 'title': 'The Call'}"
      ]
     },
     "execution_count": 48,
     "metadata": {},
     "output_type": "execute_result"
    }
   ],
   "source": [
    "# Add single movie\n",
    "\n",
    "from furl import furl\n",
    "import urllib\n",
    "from main import fetch_movie_data, MovieSchema, typesense_client\n",
    "from guessit import guessit\n",
    "import arrow\n",
    "\n",
    "href = 'http://103.214.156.1/movies/others/korean/Call%20(2020)/Call.2020.720p.WEBRip.x264.AAC-%5BYTS.MX%5D.mp4'\n",
    "fn = furl(href).path.segments[-1]\n",
    "fn = urllib.parse.unquote(fn)\n",
    "movie_info = guessit(fn)\n",
    "print(movie_info)\n",
    "omdb_params = {\n",
    "    'apikey': '648496d9',\n",
    "    't': 'The Call',\n",
    "}\n",
    "if movie_info.get('year'):\n",
    "    omdb_params['y'] = movie_info.get('year')\n",
    "\n",
    "omdb_data = requests.get(\n",
    "    'http://www.omdbapi.com/', params=omdb_params).json()\n",
    "\n",
    "movie_data = {**omdb_data}\n",
    "\n",
    "movie = MovieSchema().load(\n",
    "    {'imdb_rating': movie_data['imdbRating']})\n",
    "\n",
    "movie = MovieSchema().load(dict(\n",
    "    id=href,\n",
    "    imdb_id=movie_data['imdbID'],\n",
    "    title=movie_data['Title'],\n",
    "    director=movie_data['Director'],\n",
    "    file_url=furl(href).url,\n",
    "    genres=movie_data['Genre'].split(', '),\n",
    "    imdb_rating=movie_data.get('imdbRating', -1),\n",
    "    imdb_url=f\"https://www.imdb.com/title/{movie_data['imdbID']}/reference\",\n",
    "    last_seen=arrow.now().timestamp\n",
    "))\n",
    "\n",
    "movie['source_post'] = 'https://www.reddit.com/r/opendirectories/comments/l35yng/movies_2018_2020_korean_movies_some_tv_shows_kids/'\n",
    "movie['directory_url'] = 'http://103.214.156.1/movies/'\n",
    "\n",
    "typesense_client.collections['movies'].documents.upsert(movie)\n",
    "\n"
   ]
  },
  {
   "cell_type": "code",
   "execution_count": null,
   "metadata": {},
   "outputs": [],
   "source": []
  }
 ],
 "metadata": {
  "kernelspec": {
   "display_name": "Python 3",
   "language": "python",
   "name": "python3"
  },
  "language_info": {
   "codemirror_mode": {
    "name": "ipython",
    "version": 3
   },
   "file_extension": ".py",
   "mimetype": "text/x-python",
   "name": "python",
   "nbconvert_exporter": "python",
   "pygments_lexer": "ipython3",
   "version": "3.8.5"
  }
 },
 "nbformat": 4,
 "nbformat_minor": 4
}
